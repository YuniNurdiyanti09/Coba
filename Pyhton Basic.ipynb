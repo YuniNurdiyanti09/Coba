{
  "nbformat": 4,
  "nbformat_minor": 0,
  "metadata": {
    "colab": {
      "provenance": [],
      "authorship_tag": "ABX9TyM0xwiDLZtJMZ33movZ+cXe",
      "include_colab_link": true
    },
    "kernelspec": {
      "name": "python3",
      "display_name": "Python 3"
    },
    "language_info": {
      "name": "python"
    }
  },
  "cells": [
    {
      "cell_type": "markdown",
      "metadata": {
        "id": "view-in-github",
        "colab_type": "text"
      },
      "source": [
        "<a href=\"https://colab.research.google.com/github/YuniNurdiyanti09/Coba/blob/main/Pyhton%20Basic.ipynb\" target=\"_parent\"><img src=\"https://colab.research.google.com/assets/colab-badge.svg\" alt=\"Open In Colab\"/></a>"
      ]
    },
    {
      "cell_type": "code",
      "execution_count": null,
      "metadata": {
        "colab": {
          "base_uri": "https://localhost:8080/"
        },
        "id": "5G4OKAgz67tK",
        "outputId": "0d1701d9-270c-4e93-a0c9-f33fdf05c22d"
      },
      "outputs": [
        {
          "output_type": "stream",
          "name": "stdout",
          "text": [
            "Hello world\n"
          ]
        }
      ],
      "source": [
        "print(\"Hello world\")"
      ]
    },
    {
      "cell_type": "code",
      "source": [
        "print(1+2)\n",
        "print(2*3)"
      ],
      "metadata": {
        "colab": {
          "base_uri": "https://localhost:8080/"
        },
        "id": "Ffrt8Aem7J94",
        "outputId": "48ba0fb3-2399-4d25-ce48-6bfbefc411ec"
      },
      "execution_count": null,
      "outputs": [
        {
          "output_type": "stream",
          "name": "stdout",
          "text": [
            "3\n",
            "6\n"
          ]
        }
      ]
    },
    {
      "cell_type": "code",
      "source": [
        "print(((1+3)*(9-2)/2)**2)"
      ],
      "metadata": {
        "colab": {
          "base_uri": "https://localhost:8080/"
        },
        "id": "KiehJJC97OtA",
        "outputId": "e9d95e33-5bf9-41e5-8793-8a1642ef2b9d"
      },
      "execution_count": null,
      "outputs": [
        {
          "output_type": "stream",
          "name": "stdout",
          "text": [
            "196.0\n"
          ]
        }
      ]
    },
    {
      "cell_type": "code",
      "source": [
        "print(3*2)"
      ],
      "metadata": {
        "colab": {
          "base_uri": "https://localhost:8080/"
        },
        "id": "SHU73WXN8jis",
        "outputId": "308372ef-b09b-423e-d459-32e563687dae"
      },
      "execution_count": null,
      "outputs": [
        {
          "output_type": "stream",
          "name": "stdout",
          "text": [
            "6\n"
          ]
        }
      ]
    },
    {
      "cell_type": "code",
      "source": [
        "# comment pada python\n",
        "Multiply 3 by 2"
      ],
      "metadata": {
        "colab": {
          "base_uri": "https://localhost:8080/",
          "height": 140
        },
        "id": "CXyCJGOw8sn3",
        "outputId": "96cfea5b-3a65-4822-df1d-9bf3f16101b8"
      },
      "execution_count": null,
      "outputs": [
        {
          "output_type": "error",
          "ename": "SyntaxError",
          "evalue": "ignored",
          "traceback": [
            "\u001b[0;36m  File \u001b[0;32m\"<ipython-input-6-79a1df28128b>\"\u001b[0;36m, line \u001b[0;32m2\u001b[0m\n\u001b[0;31m    Multiply 3 by 2\u001b[0m\n\u001b[0m             ^\u001b[0m\n\u001b[0;31mSyntaxError\u001b[0m\u001b[0;31m:\u001b[0m invalid syntax\n"
          ]
        }
      ]
    },
    {
      "cell_type": "code",
      "source": [
        "test_var = 4+5\n",
        "print(test_var)\n"
      ],
      "metadata": {
        "colab": {
          "base_uri": "https://localhost:8080/"
        },
        "id": "6d_xJT_785Sv",
        "outputId": "835e9ed6-6720-4173-d7f6-188502b76e78"
      },
      "execution_count": null,
      "outputs": [
        {
          "output_type": "stream",
          "name": "stdout",
          "text": [
            "9\n"
          ]
        }
      ]
    },
    {
      "cell_type": "markdown",
      "source": [
        "- Mereka tidak boleh memiliki spasi (misalnya, test var tidak diperbolehkan)\n",
        "- Mereka hanya dapat menyertakan huruf, angka, dan garis bawah (misalnya, test_var! tidak diperbolehkan)\n",
        "- Mereka harus dimulai dengan huruf atau garis bawah (misalnya, 1_var tidak diperbolehkan)\n",
        "Kemudian, untuk membuat variabel, Anda perlu menggunakan = untuk menetapkan nilai yang Anda inginkan."
      ],
      "metadata": {
        "id": "Z1u510Fs9OH6"
      }
    },
    {
      "cell_type": "code",
      "source": [
        "# manipulasi Variable\n",
        "a=3\n",
        "print(a)\n",
        "a= 100\n",
        "print(a)"
      ],
      "metadata": {
        "colab": {
          "base_uri": "https://localhost:8080/"
        },
        "id": "aOLD3iXb9GZK",
        "outputId": "170a4256-d38b-4999-8868-595fff77a602"
      },
      "execution_count": null,
      "outputs": [
        {
          "output_type": "stream",
          "name": "stdout",
          "text": [
            "3\n",
            "100\n"
          ]
        }
      ]
    },
    {
      "cell_type": "code",
      "source": [
        "print(a)\n",
        "print(test_var)"
      ],
      "metadata": {
        "colab": {
          "base_uri": "https://localhost:8080/"
        },
        "id": "lefeI6g09nYS",
        "outputId": "80b60237-4a61-4398-8842-e584a8771cf6"
      },
      "execution_count": null,
      "outputs": [
        {
          "output_type": "stream",
          "name": "stdout",
          "text": [
            "100\n",
            "9\n"
          ]
        }
      ]
    },
    {
      "cell_type": "code",
      "source": [
        "a=a+10\n",
        "a"
      ],
      "metadata": {
        "colab": {
          "base_uri": "https://localhost:8080/"
        },
        "id": "OBzQ27zo9xpT",
        "outputId": "e34778ce-ac39-49b1-f81b-622a2cf7974c"
      },
      "execution_count": null,
      "outputs": [
        {
          "output_type": "execute_result",
          "data": {
            "text/plain": [
              "110"
            ]
          },
          "metadata": {},
          "execution_count": 10
        }
      ]
    },
    {
      "cell_type": "code",
      "source": [
        "# create variable\n",
        "num_years = 4\n",
        "day_per_year = 365\n",
        "hour_per_day = 24\n",
        "min_per_hour = 60\n",
        "secs_per_min = 60\n",
        "# calculate number of second in four years\n",
        "total_secs = num_years*day_per_year*hour_per_day*min_per_hour*secs_per_min\n",
        "total_secs"
      ],
      "metadata": {
        "colab": {
          "base_uri": "https://localhost:8080/"
        },
        "id": "Z5ZmQYEf94QX",
        "outputId": "71a44716-61a0-4b60-ff96-c8202f06e779"
      },
      "execution_count": null,
      "outputs": [
        {
          "output_type": "execute_result",
          "data": {
            "text/plain": [
              "126144000"
            ]
          },
          "metadata": {},
          "execution_count": 13
        }
      ]
    },
    {
      "cell_type": "code",
      "source": [
        "day_per_year = 365.25\n",
        "total_secs = num_years*day_per_year*hour_per_day*min_per_hour*secs_per_min\n",
        "total_secs"
      ],
      "metadata": {
        "colab": {
          "base_uri": "https://localhost:8080/"
        },
        "id": "QGxgjIgB-cfZ",
        "outputId": "8ecdcf21-80dd-4232-cb20-122ab87cb381"
      },
      "execution_count": null,
      "outputs": [
        {
          "output_type": "execute_result",
          "data": {
            "text/plain": [
              "126230400.0"
            ]
          },
          "metadata": {},
          "execution_count": 16
        }
      ]
    },
    {
      "cell_type": "code",
      "source": [
        "def add_three(input_var):\n",
        "  output_var = input_var +3\n",
        "  return output_var"
      ],
      "metadata": {
        "id": "zDJefZZ_-r0H"
      },
      "execution_count": null,
      "outputs": []
    },
    {
      "cell_type": "code",
      "source": [
        "new_number=add_three(30)\n",
        "print(new_number)"
      ],
      "metadata": {
        "colab": {
          "base_uri": "https://localhost:8080/"
        },
        "id": "1Z780lKXF9Ez",
        "outputId": "b9d8f53e-f759-4c3c-8e8f-79ed8235c47d"
      },
      "execution_count": null,
      "outputs": [
        {
          "output_type": "stream",
          "name": "stdout",
          "text": [
            "33\n"
          ]
        }
      ]
    },
    {
      "cell_type": "code",
      "source": [
        "def get_pay(num_hours):\n",
        "  pay_pretax =num_hours *15\n",
        "  pay_aftertax =pay_pretax * (1- .12)\n",
        "  return pay_aftertax\n",
        "\n",
        "pay_fulltime = get_pay(40)\n",
        "print(pay_fulltime)"
      ],
      "metadata": {
        "colab": {
          "base_uri": "https://localhost:8080/"
        },
        "id": "jf3LLmpTHfGK",
        "outputId": "2a3633fe-d327-4d78-b264-d39e9f091e94"
      },
      "execution_count": null,
      "outputs": [
        {
          "output_type": "stream",
          "name": "stdout",
          "text": [
            "528.0\n"
          ]
        }
      ]
    },
    {
      "cell_type": "code",
      "source": [
        "pay_parttime = get_pay(32)\n",
        "print(pay_parttime)"
      ],
      "metadata": {
        "colab": {
          "base_uri": "https://localhost:8080/"
        },
        "id": "IZZW8QqoJJr1",
        "outputId": "8c7683fa-3569-432f-9f92-bdf4ed5c85a7"
      },
      "execution_count": null,
      "outputs": [
        {
          "output_type": "stream",
          "name": "stdout",
          "text": [
            "422.4\n"
          ]
        }
      ]
    },
    {
      "cell_type": "code",
      "source": [
        "def get_pay_with_more_inputs(num_hours, hourly_wage, tax_bracket):\n",
        "  pay_pretax = num_hours * hourly_wage\n",
        "  pay_aftertax= pay_pretax * (1-tax_bracket)\n",
        "  return pay_aftertax\n",
        "\n",
        "highter_pay_aftertax = get_pay_with_more_inputs(40,24, 0.22)\n",
        "print(highter_pay_aftertax)"
      ],
      "metadata": {
        "colab": {
          "base_uri": "https://localhost:8080/"
        },
        "id": "62JXHRy2JbO-",
        "outputId": "c2a8c593-9ef0-4dd8-c748-ee5353d204e7"
      },
      "execution_count": null,
      "outputs": [
        {
          "output_type": "stream",
          "name": "stdout",
          "text": [
            "748.8000000000001\n"
          ]
        }
      ]
    },
    {
      "cell_type": "code",
      "source": [
        "def print_hello():\n",
        "  print(\"hello world\")\n",
        "  print(\"good morning!\")\n",
        "\n",
        "print(print_hello)"
      ],
      "metadata": {
        "colab": {
          "base_uri": "https://localhost:8080/"
        },
        "id": "oWYbg3YKg_S2",
        "outputId": "fa0fc467-6149-430b-dc56-d678ebe63d48"
      },
      "execution_count": null,
      "outputs": [
        {
          "output_type": "stream",
          "name": "stdout",
          "text": [
            "<function print_hello at 0x7836f19c2e60>\n"
          ]
        }
      ]
    },
    {
      "cell_type": "code",
      "source": [
        "print_hello()"
      ],
      "metadata": {
        "colab": {
          "base_uri": "https://localhost:8080/"
        },
        "id": "cdPG24oGhcO1",
        "outputId": "7253b466-683a-49ae-cde8-93ee13b27298"
      },
      "execution_count": null,
      "outputs": [
        {
          "output_type": "stream",
          "name": "stdout",
          "text": [
            "hello world\n",
            "good morning!\n"
          ]
        }
      ]
    },
    {
      "cell_type": "code",
      "source": [
        "x=14\n",
        "print(x)\n",
        "print(type(x))"
      ],
      "metadata": {
        "colab": {
          "base_uri": "https://localhost:8080/"
        },
        "id": "opLVCa4whgiL",
        "outputId": "d88b6bc9-37ab-447d-8704-1dd89d312f23"
      },
      "execution_count": null,
      "outputs": [
        {
          "output_type": "stream",
          "name": "stdout",
          "text": [
            "14\n",
            "<class 'int'>\n"
          ]
        }
      ]
    },
    {
      "cell_type": "code",
      "source": [
        "almost_pi =22/7\n",
        "print(almost_pi)\n",
        "print(type(almost_pi))"
      ],
      "metadata": {
        "colab": {
          "base_uri": "https://localhost:8080/"
        },
        "id": "-YJOG0pYvxbo",
        "outputId": "f5e3c83d-31c1-498c-806c-194c30d15d05"
      },
      "execution_count": null,
      "outputs": [
        {
          "output_type": "stream",
          "name": "stdout",
          "text": [
            "3.142857142857143\n",
            "<class 'float'>\n"
          ]
        }
      ]
    },
    {
      "cell_type": "code",
      "source": [
        "rounded_pi = round(almost_pi, 5)\n",
        "print(type(rounded_pi))"
      ],
      "metadata": {
        "colab": {
          "base_uri": "https://localhost:8080/"
        },
        "id": "9saUsHf6wN5y",
        "outputId": "740337ae-4943-43b6-baac-2d8e4285283f"
      },
      "execution_count": null,
      "outputs": [
        {
          "output_type": "stream",
          "name": "stdout",
          "text": [
            "<class 'float'>\n"
          ]
        }
      ]
    },
    {
      "cell_type": "code",
      "source": [
        "y_float =1.\n",
        "print(y_float)\n",
        "print(type(y_float))"
      ],
      "metadata": {
        "colab": {
          "base_uri": "https://localhost:8080/"
        },
        "id": "J0x4ai0vwdz8",
        "outputId": "cbb05918-c0ff-4214-df4e-e3739368ab41"
      },
      "execution_count": null,
      "outputs": [
        {
          "output_type": "stream",
          "name": "stdout",
          "text": [
            "1.0\n",
            "<class 'float'>\n"
          ]
        }
      ]
    },
    {
      "cell_type": "code",
      "source": [],
      "metadata": {
        "id": "uYRkQ8oGwoDB"
      },
      "execution_count": null,
      "outputs": []
    }
  ]
}